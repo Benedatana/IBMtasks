{
 "cells": [
  {
   "cell_type": "markdown",
   "id": "4d74cff8-049f-48a6-9150-17adbca1b52a",
   "metadata": {},
   "source": [
    "# Data Science Tools and and Ecosystem"
   ]
  },
  {
   "cell_type": "markdown",
   "id": "2714b7ad-cb09-40a1-9d8d-a95ead25dd59",
   "metadata": {
    "editable": true,
    "slideshow": {
     "slide_type": ""
    },
    "tags": []
   },
   "source": [
    "_In this notebook, ***Data Science Tools and Ecosystem*** are summarized_"
   ]
  },
  {
   "cell_type": "markdown",
   "id": "e48564ba-a158-484b-b3d3-c5e4aab288df",
   "metadata": {},
   "source": [
    "__Objectives:__\n",
    "- List popular languages for Data Science\n",
    "- List commonly used libraries by Data Scientists\n",
    "- Create a table of different development environment open source tools\n",
    "- Evaluate expressions\n",
    "- convert expression from minutes to hours"
   ]
  },
  {
   "cell_type": "markdown",
   "id": "50888b9c-e17e-4655-936b-918e908d1d85",
   "metadata": {},
   "source": [
    "#### Some of the popular *languages* that Data Scientists use are:\n",
    "1. Python\n",
    "2. R\n",
    "3. SQL"
   ]
  },
  {
   "cell_type": "markdown",
   "id": "6d8a00ab-8b44-45ea-b08a-34674be982c6",
   "metadata": {},
   "source": [
    "#### Some of the commonly used *libraries* used by Data Scientists include:\n",
    "1. Pandas\n",
    "2. Seaborn\n",
    "3. Numpy\n",
    "4. Matplotlib\n",
    "5. Scikit-learn\n",
    "6. Caret\n",
    "7. Tensorflow"
   ]
  },
  {
   "cell_type": "markdown",
   "id": "a2062f72-1cfd-4e4f-bb5c-ac5650645132",
   "metadata": {
    "jp-MarkdownHeadingCollapsed": true
   },
   "source": [
    "|Data Science tools|\n",
    "|--------------------|\n",
    "|Jupyter Notebook|\n",
    "|RStudio|\n",
    "|Google Colab|\n",
    "  "
   ]
  },
  {
   "cell_type": "markdown",
   "id": "84a2bddf-7867-49f4-b062-42fb571aa78e",
   "metadata": {},
   "source": [
    "### Below are a few examples of evaluating *arithmetic expressions in Python.*"
   ]
  },
  {
   "cell_type": "code",
   "execution_count": 2,
   "id": "f0fdab52-2aa9-45e5-88ed-aa22d8366183",
   "metadata": {},
   "outputs": [
    {
     "name": "stdout",
     "output_type": "stream",
     "text": [
      "17\n"
     ]
    }
   ],
   "source": [
    "# This is a simple arithmetic expression to multiply then add integer\n",
    "print ((3*4)+5)"
   ]
  },
  {
   "cell_type": "code",
   "execution_count": 3,
   "id": "a569a037-238c-4e76-b9ae-d8321dbbdb5e",
   "metadata": {},
   "outputs": [
    {
     "name": "stdout",
     "output_type": "stream",
     "text": [
      "3.3333333333333335\n"
     ]
    }
   ],
   "source": [
    "# This will convert 200 minutes to hours by dividing by 60\n",
    "print (200/60)"
   ]
  },
  {
   "cell_type": "markdown",
   "id": "b1857f37-58ed-4f43-b32f-e029e5027520",
   "metadata": {},
   "source": [
    "## Author\n",
    "__Luis Benedicto__"
   ]
  },
  {
   "cell_type": "code",
   "execution_count": null,
   "id": "490991fb-bf17-4f66-a6e9-21c4188202b5",
   "metadata": {},
   "outputs": [],
   "source": []
  }
 ],
 "metadata": {
  "kernelspec": {
   "display_name": "Python 3 (ipykernel)",
   "language": "python",
   "name": "python3"
  },
  "language_info": {
   "codemirror_mode": {
    "name": "ipython",
    "version": 3
   },
   "file_extension": ".py",
   "mimetype": "text/x-python",
   "name": "python",
   "nbconvert_exporter": "python",
   "pygments_lexer": "ipython3",
   "version": "3.13.3"
  }
 },
 "nbformat": 4,
 "nbformat_minor": 5
}
